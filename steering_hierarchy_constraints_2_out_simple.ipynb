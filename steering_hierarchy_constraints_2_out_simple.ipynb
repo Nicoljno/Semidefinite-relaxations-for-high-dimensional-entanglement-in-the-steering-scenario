{
 "cells": [
  {
   "cell_type": "code",
   "execution_count": 1,
   "id": "a2da2716",
   "metadata": {},
   "outputs": [],
   "source": [
    "import numpy as np\n",
    "import sympy as sp\n",
    "import itertools as it\n",
    "import string\n",
    "import pickle\n",
    "from tqdm import tqdm\n",
    "import time\n",
    "from scipy.io import savemat"
   ]
  },
  {
   "cell_type": "code",
   "execution_count": 2,
   "id": "14d80f0a",
   "metadata": {},
   "outputs": [],
   "source": [
    "#cyclic permutation to check equivalence under the parrtial trace\n",
    "def cyclic_permutations(lst):\n",
    "    yield lst\n",
    "    for k in range(3, len(lst), 3):\n",
    "        p = lst[k:] + lst[:k]\n",
    "        if p == lst:\n",
    "            break\n",
    "        yield p"
   ]
  },
  {
   "cell_type": "code",
   "execution_count": 3,
   "id": "0eedd62d",
   "metadata": {},
   "outputs": [],
   "source": [
    "#cyclic permutation to check equivalence under the parrtial trace\n",
    "def cyclic_permutations_clock(lst):\n",
    "    yield lst\n",
    "    for k in range(3, len(lst), 3):\n",
    "        p = lst[-k:] + lst[:-k]\n",
    "        if p == lst:\n",
    "            break\n",
    "        yield p"
   ]
  },
  {
   "cell_type": "code",
   "execution_count": 26,
   "id": "c9016df8",
   "metadata": {},
   "outputs": [],
   "source": [
    "parties = ['A']\n",
    "inputs = ['0','1']#,'2','3','4','5','6','7','8','9','B','C','D','E','F','G'\n",
    "outputs = ['0','1']#,2','3','4','5','6','7','8','9','B','C','D','E','F'\n",
    "operators = [''.join(k) for k in it.product(parties,outputs,inputs, repeat = 1)]\n",
    "A_operators = [''.join(k) for k in it.product(parties,outputs,inputs, repeat = 1)]\n",
    "#A_operators.append('100')"
   ]
  },
  {
   "cell_type": "code",
   "execution_count": 5,
   "id": "e5e3c5c5",
   "metadata": {},
   "outputs": [],
   "source": [
    "operators.append('R00')\n",
    "#operators.append('100')\n"
   ]
  },
  {
   "cell_type": "code",
   "execution_count": 6,
   "id": "48aa38ed",
   "metadata": {},
   "outputs": [
    {
     "name": "stdout",
     "output_type": "stream",
     "text": [
      "22\n"
     ]
    }
   ],
   "source": [
    "level = 2\n",
    "monomial_set = []\n",
    "lev=[]\n",
    "for i in range(1,level+1):   \n",
    "    \n",
    "    lev = [''.join(k) for k in it.product(operators, repeat = i)]\n",
    "    #lev = [''.join(k) for k in it.product(A_operators, repeat = i)]\n",
    "    if(i==3):\n",
    "        tmp= [''.join(k) for k in it.product(A_operators, repeat = 1)]\n",
    "        for count1 in range(len(tmp)):\n",
    "            lev.append('R00'+tmp[count1])\n",
    "            lev.append('A00'+tmp[count1])\n",
    "            lev.append('A10'+tmp[count1])\n",
    "            lev.append(tmp[count1]+'A20')\n",
    "            lev.append(tmp[count1]+'A30')\n",
    "            lev.append('A01'+tmp[count1])\n",
    "            lev.append('A02'+tmp[count1])\n",
    "            lev.append('A03'+tmp[count1])\n",
    "            lev.append('A04'+tmp[count1])\n",
    "            #lev.append('A05'+tmp[count1])\n",
    "            #lev.append(tmp[count1]+'A01')\n",
    "            #lev.append(tmp[count1]+'A11')\n",
    "            #for count2 in range(len(tmp)):\n",
    "                #if(count1<count2):\n",
    "                #    lev.append(tmp[count1]+tmp[count2]+tmp[count1]+tmp[count2])\n",
    "                #lev.append(tmp[count1]+tmp[count2])\n",
    "                #if(count1<count2):\n",
    "                #    lev.append(tmp[count1]+tmp[count2])\n",
    "                    #lev.append('R00'+tmp[count1]+tmp[count2])\n",
    "                    #lev.append('A00'+tmp[count1]+tmp[count2])\n",
    "                    #lev.append('A10'+tmp[count1]+tmp[count2])\n",
    "                #for count3 in range(len(tmp)):\n",
    "                    #if(count1<count2<count3):\n",
    "                        #lev.append('R00'+tmp[count1])\n",
    "                        #lev.append('A00'+tmp[count1])\n",
    "                        #lev.append('A10'+tmp[count1])\n",
    "                        #lev.append('A20'+tmp[count1])\n",
    "                        #lev.append('A30'+tmp[count1])\n",
    "                        #lev.append(tmp[count1]+tmp[count2]+tmp[count3])\n",
    "                        \n",
    "\n",
    "\n",
    "\n",
    "    #jointly measurable measurements commute\n",
    "    #for k in range(len(lev)):\n",
    "    #    for l1 in parties: \n",
    "    #        for i1 in inputs:\n",
    "    #            for i2 in inputs:\n",
    "    #                for o1 in outputs:\n",
    "    #                    for o2 in outputs:\n",
    "    #                        if i1>i2 and o1>non_joint:\n",
    "    #                            lev[k] = lev[k].replace(l1+o1+i1+l1+o2+i2, l1+o2+i2+l1+o1+i1)\n",
    "\n",
    "    ### orthogonality                                   \n",
    "    for k in range(len(lev)):\n",
    "        for l1 in parties: \n",
    "            for l2 in parties:\n",
    "                for i1 in inputs:\n",
    "                    for o1 in outputs:\n",
    "                        for o2 in outputs:\n",
    "                            if (o1!=o2 and l1+o1+i1+l2+o2+i1 in lev[k]):\n",
    "                                lev[k]= ('')\n",
    "\n",
    "\n",
    "            \n",
    "                                                                                \n",
    "    #if i == 1:\n",
    "    #    operators = lev.copy()\n",
    "    #every element projects into itself\n",
    "    for p in range(len(lev)):      \n",
    "        for m in range(1,int(i/2)+2):\n",
    "            #s = [''.join(k) for k in it.product(operators, repeat = m)]\n",
    "            while any(el+el in lev[p] for el in operators):\n",
    "                for el in operators:\n",
    "                    lev[p] = lev[p].replace(el+el, el)\n",
    "    \n",
    "    \n",
    "    monomial_set += lev\n",
    "\n",
    "monomial_set.append('')\n",
    "monomial_set = sorted(sorted(list(set(monomial_set))), key=len)\n",
    "#remove unnecessary elements\n",
    "#monomial_set.remove('')\n",
    "print(len(monomial_set))"
   ]
  },
  {
   "cell_type": "code",
   "execution_count": 7,
   "id": "6c021e3b",
   "metadata": {},
   "outputs": [],
   "source": [
    "n=3\n",
    "rev_mon_set = []\n",
    "for l in range(len(monomial_set)):\n",
    "    lista = [monomial_set[l][i:i+n] for i in range(0, len(monomial_set[l]), n)]\n",
    "    lista.reverse()\n",
    "    rev_mon_set.append(''.join(lista))"
   ]
  },
  {
   "cell_type": "code",
   "execution_count": 8,
   "id": "ded1babc",
   "metadata": {},
   "outputs": [],
   "source": [
    "gamma_mat = []\n",
    "for i in range(len(monomial_set)):\n",
    "    gamma_row = []\n",
    "    for j in range(i, len(rev_mon_set)):\n",
    "        gamma_row.append(rev_mon_set[i]+monomial_set[j])\n",
    "    gamma_mat.append(gamma_row)"
   ]
  },
  {
   "cell_type": "code",
   "execution_count": 9,
   "id": "a4777282",
   "metadata": {
    "scrolled": true
   },
   "outputs": [
    {
     "name": "stderr",
     "output_type": "stream",
     "text": [
      "100%|████████████████████████████████████████████████████████████████████████████████| 22/22 [00:00<00:00, 1391.94it/s]\n"
     ]
    }
   ],
   "source": [
    "Rem_el=[]\n",
    "for i in tqdm(range(len(gamma_mat))):\n",
    "    #time.sleep(0.01)\n",
    "    for j in range(len(gamma_mat[i])):\n",
    "\n",
    "        #jointly measurable measurements commute\n",
    "        #for k in range(int(len(gamma_mat[i][j])/2)+1):\n",
    "        #    for l1 in parties: \n",
    "        #        for i1 in inputs:\n",
    "        #            for i2 in inputs:\n",
    "        #                for o1 in outputs:\n",
    "        #                    for o2 in outputs:\n",
    "        #                        if i1>i2 and o1>non_joint:\n",
    "        #                            gamma_mat[i][j] = gamma_mat[i][j].replace(l1+o1+i1+l1+o2+i2, l1+o2+i2+l1+o1+i1)\n",
    "        \n",
    "        \n",
    "        #setting orthogonal elements to 'O00'\n",
    "        for l1 in parties: \n",
    "            for i1 in inputs:\n",
    "                for o1 in outputs:\n",
    "                    for o2 in outputs:\n",
    "                        if (o1!=o2 and l1+o1+i1+l1+o2+i1 in gamma_mat[i][j]):\n",
    "                            Rem_el.append(gamma_mat[i][j])\n",
    "                            gamma_mat[i][j] = ('O00')\n",
    "\n",
    "        #the partial trace is cyclical over the first party\n",
    "        for l1 in parties: \n",
    "            for i1 in inputs:\n",
    "                for o1 in outputs:\n",
    "                    for o2 in outputs:\n",
    "                        if (o1!=o2 and l1+o1+i1+l1+o2+i1 in gamma_mat[i][j][0:3]+gamma_mat[i][j][-3::]):\n",
    "                            Rem_el.append(gamma_mat[i][j])\n",
    "                            gamma_mat[i][j] = ('O00')\n",
    "\n",
    "        #every element project into itself\n",
    "        for m in range(1,int(len(gamma_mat[i][j])/2)+1):\n",
    "            #s = [''.join(k) for k in it.product(operators, repeat = m)]\n",
    "            while any(el+el in gamma_mat[i][j] for el in operators):\n",
    "                for el in operators:\n",
    "                    #print(gamma_mat[i][j], el+el, i,j)\n",
    "                    gamma_mat[i][j] = gamma_mat[i][j].replace(el+el, el)\n",
    "                    #print(gamma_mat[i][j])\n",
    "                    #print('***')\n",
    "        \n",
    "        #the partial trace is cyclical over the first party\n",
    "        for m in range(1,int(len(gamma_mat[i][j])/2)+1):\n",
    "            while len(gamma_mat[i][j])>7 and any(el+el in gamma_mat[i][j][0:3]+gamma_mat[i][j][-3::] for el in A_operators):\n",
    "                gamma_mat[i][j] = gamma_mat[i][j][:-3]\n",
    "\n",
    "                \n",
    "\n",
    "        \n",
    "        #the partial trace is cyclical over the first party\n",
    "        if ('R00' not in gamma_mat[i][j]):\n",
    "            for tmp in cyclic_permutations(gamma_mat[i][j]):\n",
    "                if (tmp<gamma_mat[i][j]):\n",
    "                    gamma_mat[i][j]=tmp\n",
    "        else:\n",
    "            #tmp1='Z'*len(gamma_mat[i][j])\n",
    "            #tmp2='Z'*len(gamma_mat[i][j])\n",
    "            flag=0\n",
    "            if(gamma_mat[i][j][0:3] != 'R00'):\n",
    "                for tmp in cyclic_permutations(gamma_mat[i][j]):\n",
    "                    if (tmp[0:3] == 'R00'):\n",
    "                        tmp1=tmp\n",
    "                        tmp=gamma_mat[i][j]\n",
    "                        flag=1\n",
    "                        break\n",
    "            if(flag):\n",
    "                gamma_mat[i][j]=tmp1\n",
    "\n",
    "                \n",
    "\n",
    "diag_el=[]\n",
    "for i in range(len(gamma_mat)):\n",
    "    diag_el.append(gamma_mat[i][0])"
   ]
  },
  {
   "cell_type": "code",
   "execution_count": 10,
   "id": "491f79c6",
   "metadata": {},
   "outputs": [],
   "source": [
    "monomial_index = {}\n",
    "for i in range(len(gamma_mat)):\n",
    "    for j in range(len(gamma_mat[i])):\n",
    "        monomial_index[gamma_mat[i][j]] = []\n",
    "\n",
    "for i in range(len(gamma_mat)):\n",
    "    for j in range(len(gamma_mat[i])):\n",
    "        monomial_index[gamma_mat[i][j]].append([i,i+j])"
   ]
  },
  {
   "cell_type": "code",
   "execution_count": 11,
   "id": "e6545c8f",
   "metadata": {
    "scrolled": true
   },
   "outputs": [],
   "source": [
    "diz_constraints = { list(monomial_index.keys())[i] : i  for i in range(len(list(monomial_index.keys())))}"
   ]
  },
  {
   "cell_type": "code",
   "execution_count": 12,
   "id": "6838642f",
   "metadata": {},
   "outputs": [],
   "source": [
    "index_keys = list(monomial_index.keys())"
   ]
  },
  {
   "cell_type": "code",
   "execution_count": 13,
   "id": "54fb4c48",
   "metadata": {},
   "outputs": [],
   "source": [
    "coefs = [item for item in index_keys if 'R00' not in item]\n",
    "if('O00' in coefs):\n",
    "    coefs.remove('O00')\n",
    "coefs.remove('')\n",
    "matrices = [item for item in index_keys if 'R00' in item]\n",
    "hermitian_M=[]\n",
    "complex_M=[]\n",
    "real_C=[]\n",
    "complex_C=[]\n",
    "\n",
    "for i in matrices:\n",
    "    lista = [i[j:j+n] for j in range(0, len(i), n)]\n",
    "    lista.reverse()\n",
    "    lista=''.join(lista)\n",
    "    flag=0\n",
    "    if(lista[0:3] != 'R00'):\n",
    "        for tmp in cyclic_permutations(lista):\n",
    "            if (tmp[0:3] == 'R00'):\n",
    "                tmp1=tmp\n",
    "                tmp=lista\n",
    "                flag=1\n",
    "                break\n",
    "    if(flag):\n",
    "        lista=tmp1\n",
    "    if(lista == i):\n",
    "        hermitian_M.append(i)\n",
    "\n",
    "\n",
    "hermitian_M = sorted(sorted(set(hermitian_M)), key=len);\n",
    "complex_M = [i for i in matrices if i not in hermitian_M]\n",
    "\n",
    "\n",
    "for i in coefs:\n",
    "    lista = [i[j:j+n] for j in range(0, len(i), n)]\n",
    "    lista.reverse()\n",
    "    lista = ''.join(lista)\n",
    "    for tmp in cyclic_permutations(lista):\n",
    "        if (tmp<lista):\n",
    "            lista=tmp\n",
    "    if(lista==i):\n",
    "        real_C.append(i)\n",
    "\n",
    "\n",
    "real_C=sorted(sorted(set(real_C)), key=len);\n",
    "complex_C = [i for i in coefs if i not in real_C]"
   ]
  },
  {
   "cell_type": "code",
   "execution_count": 14,
   "id": "3dff221c",
   "metadata": {},
   "outputs": [],
   "source": [
    "#REDUCTION RULE DEFINED IN SUPPLEMENTARY MATHERIAL FOR DIMENSION 2, REMOVE IF NEEDED\n",
    "#count=0\n",
    "#for i in complex_C:\n",
    "#    if(len(i)==12):\n",
    "#        if(len({i[2], i[5], i[8], i[-1]})<4):\n",
    "#            count=count+1\n",
    "#            real_C.append(i)\n",
    "#            print(i, i[2], i[5], i[8], i[-1])\n",
    "#\n",
    "#real_C=sorted(sorted(set(real_C)), key=len);\n",
    "#complex_C = [i for i in coefs if i not in real_C]\n",
    "#count"
   ]
  },
  {
   "cell_type": "code",
   "execution_count": 15,
   "id": "0b029f61",
   "metadata": {},
   "outputs": [],
   "source": [
    "#constrained_el=[]\n",
    "#constrained_el.append(0)\n",
    "#for i in [1, *[i for i in range(2, (level+2)*2) if i % 2 == 0]]:\n",
    "#    constrained_el.append(len([item for item in real_C if len(item)==3*i]))\n",
    "#for i in range(len(constrained_el)-1, 1, -1):\n",
    "#    constrained_el[i]=constrained_el[i]+sum(constrained_el[j] for j in range(i))"
   ]
  },
  {
   "cell_type": "code",
   "execution_count": 16,
   "id": "0fe7ab1d",
   "metadata": {
    "scrolled": true
   },
   "outputs": [],
   "source": [
    "C = np.zeros([len(real_C),len(monomial_set),len(monomial_set)], dtype=int)\n",
    "for i in range(len(real_C)):\n",
    "    for j in range(len(monomial_index[real_C[i]])):\n",
    "        C[i][monomial_index[real_C[i]][j][0]][monomial_index[real_C[i]][j][1]] = 1\n",
    "for i in range(len(real_C)):\n",
    "    C[i]=C[i]+C[i].T\n",
    "C_ = np.zeros([len(complex_C),len(monomial_set),len(monomial_set)], dtype=int)\n",
    "for i in range(len(complex_C)):\n",
    "    for j in range(len(monomial_index[complex_C[i]])):\n",
    "        C_[i][monomial_index[complex_C[i]][j][0]][monomial_index[complex_C[i]][j][1]] = 1\n",
    "for i in range(len(complex_C)):\n",
    "    C_[i]=C_[i]+C_[i].T \n",
    "M = np.zeros([len(hermitian_M),len(monomial_set),len(monomial_set)], dtype=int)\n",
    "for i in range(len(hermitian_M)):\n",
    "    for j in range(len(monomial_index[hermitian_M[i]])):\n",
    "        M[i][monomial_index[hermitian_M[i]][j][0]][monomial_index[hermitian_M[i]][j][1]] = 1\n",
    "for i in range(len(hermitian_M)):\n",
    "    M[i]=M[i]+M[i].T\n",
    "M_ = np.zeros([len(complex_M),len(monomial_set),len(monomial_set)], dtype=int)\n",
    "for i in range(len(complex_M)):\n",
    "    for j in range(len(monomial_index[complex_M[i]])):\n",
    "        M_[i][monomial_index[complex_M[i]][j][0]][monomial_index[complex_M[i]][j][1]] = 1\n",
    "for i in range(len(complex_M)):\n",
    "    M_[i]=M_[i]+M_[i].T\n",
    "O = np.zeros([len(monomial_set),len(monomial_set)], dtype=int)\n"
   ]
  },
  {
   "cell_type": "code",
   "execution_count": 17,
   "id": "2d3de33d",
   "metadata": {},
   "outputs": [],
   "source": [
    "#C__=np.zeros([len(constrained_el)-1, len(monomial_set),len(monomial_set)], dtype=int)\n",
    "#for i in range(1, len(constrained_el)):\n",
    "#    C__[i-1]=sum(C[j] for j in range(constrained_el[i-1], constrained_el[i]))"
   ]
  },
  {
   "cell_type": "code",
   "execution_count": 18,
   "id": "078de487",
   "metadata": {},
   "outputs": [],
   "source": [
    "diz_1 = {real_C[i] : C[i].astype(bool) for i in range(len(real_C))}\n",
    "diz_2 = {complex_C[i] : C_[i].astype(bool) for i in range(len(complex_C))}\n",
    "diz_3 = {hermitian_M[i] : M[i].astype(bool) for i in range(len(hermitian_M))}\n",
    "diz_4 = {complex_M[i] : M_[i].astype(bool) for i in range(len(complex_M))}\n",
    "diz = diz_1 | diz_2 | diz_3 | diz_4"
   ]
  },
  {
   "cell_type": "code",
   "execution_count": 19,
   "id": "96b87b30",
   "metadata": {},
   "outputs": [
    {
     "name": "stdout",
     "output_type": "stream",
     "text": [
      "8 1\n"
     ]
    }
   ],
   "source": [
    "complex_C_pairs=[]\n",
    "for i in complex_C:\n",
    "    lista = [i[j:j+n] for j in range(0, len(i), n)]\n",
    "    lista.reverse()\n",
    "    lista=''.join(lista)\n",
    "    for tmp in cyclic_permutations(lista):\n",
    "        if (tmp<lista):\n",
    "            lista=tmp\n",
    "    if(lista in complex_C):\n",
    "        complex_C_pairs.append([complex_C.index(i), complex_C.index(lista)])\n",
    "for i in range(len(complex_C_pairs)):\n",
    "    complex_C_pairs[i]=sorted(complex_C_pairs[i])\n",
    "complex_C_pairs=np.unique(complex_C_pairs, axis=0)\n",
    "\n",
    "complex_M_pairs=[]\n",
    "for i in complex_M:\n",
    "    lista = [i[j:j+n] for j in range(0, len(i), n)]\n",
    "    lista.reverse()\n",
    "    lista=''.join(lista)\n",
    "    flag=0\n",
    "    if(lista[0:3] != 'R00'):\n",
    "        for tmp in cyclic_permutations(lista):\n",
    "            if (tmp[0:3] == 'R00'):\n",
    "                tmp1=tmp\n",
    "                tmp=lista\n",
    "                flag=1\n",
    "                break\n",
    "    if(flag):\n",
    "        lista=tmp1\n",
    "    if(lista in complex_M):\n",
    "        complex_M_pairs.append([complex_M.index(i), complex_M.index(lista)])\n",
    "for i in range(len(complex_M_pairs)):\n",
    "    complex_M_pairs[i]=sorted(complex_M_pairs[i])\n",
    "complex_M_pairs=np.unique(complex_M_pairs, axis=0)\n",
    "print(len(complex_M_pairs), len(complex_C_pairs))\n",
    "\n",
    "complex_M_pairs = np.array([row for row in complex_M_pairs if row[0] != row[1]])\n",
    "complex_C_pairs = np.array([row for row in complex_C_pairs if row[0] != row[1]])"
   ]
  },
  {
   "cell_type": "code",
   "execution_count": 20,
   "id": "823c0efd",
   "metadata": {},
   "outputs": [],
   "source": [
    "tracial_pairs=[]\n",
    "for item in matrices:\n",
    "    if(len(item)>7):\n",
    "        if(item[:3]+item[-3:]=='R00R00'):\n",
    "            tmp_1=0\n",
    "            tmp_2=0\n",
    "            if(item in complex_M):\n",
    "                tmp_1 = 1\n",
    "                index_1 = complex_M.index(item)+1\n",
    "                if(item[:-3] in complex_M):\n",
    "                    tmp_2=1\n",
    "                    index_2=complex_M.index(item[:-3])+1\n",
    "                else:\n",
    "                    index_2=hermitian_M.index(item[:-3])\n",
    "            else:\n",
    "                index_1 = hermitian_M.index(item)\n",
    "                if(item[:-3] in complex_M):\n",
    "                    tmp_2=1\n",
    "                    index_2=complex_M.index(item[:-3])+1\n",
    "                else:\n",
    "                    index_2=hermitian_M.index(item[:-3])\n",
    "            tracial_pairs.append([tmp_1, tmp_2, index_1, index_2])"
   ]
  },
  {
   "cell_type": "code",
   "execution_count": 21,
   "id": "3933a175",
   "metadata": {},
   "outputs": [],
   "source": [
    "M=M.astype(bool)\n",
    "M_=M_.astype(bool)\n",
    "C=C.astype(bool)\n",
    "C_=C_.astype(bool)\n",
    "O=O.astype(bool)\n",
    "savemat(\"sic_d3_lvl_2.mat\", {'sdp_matrices': M, \n",
    "                                      'complex_matrices': M_, \n",
    "                                      'coefs': C, \n",
    "                                      'complex_coefs': C_, \n",
    "                                      'complex_C_pairs':complex_C_pairs,\n",
    "                                      'complex_M_pairs':complex_M_pairs,\n",
    "                                      'tracial_pairs':tracial_pairs})"
   ]
  },
  {
   "cell_type": "code",
   "execution_count": 22,
   "id": "e601b87b",
   "metadata": {},
   "outputs": [
    {
     "data": {
      "text/plain": [
       "20"
      ]
     },
     "execution_count": 22,
     "metadata": {},
     "output_type": "execute_result"
    }
   ],
   "source": [
    "len(complex_M)"
   ]
  },
  {
   "cell_type": "code",
   "execution_count": 23,
   "id": "91608037",
   "metadata": {},
   "outputs": [
    {
     "data": {
      "text/plain": [
       "2"
      ]
     },
     "execution_count": 23,
     "metadata": {},
     "output_type": "execute_result"
    }
   ],
   "source": [
    "len(complex_C)"
   ]
  },
  {
   "cell_type": "code",
   "execution_count": 25,
   "id": "20431a79",
   "metadata": {},
   "outputs": [
    {
     "data": {
      "text/plain": [
       "['R00',\n",
       " 'R00A00',\n",
       " 'R00A01',\n",
       " 'R00A10',\n",
       " 'R00A11',\n",
       " 'R00A00R00',\n",
       " 'R00A01R00',\n",
       " 'R00A10R00',\n",
       " 'R00A11R00',\n",
       " 'R00A00A01A00',\n",
       " 'R00A00A11A00',\n",
       " 'R00A00R00A00',\n",
       " 'R00A00R00A01',\n",
       " 'R00A00R00A10',\n",
       " 'R00A00R00A11',\n",
       " 'R00A01A00A01',\n",
       " 'R00A01A10A01',\n",
       " 'R00A01R00A00',\n",
       " 'R00A01R00A01',\n",
       " 'R00A01R00A10',\n",
       " 'R00A01R00A11',\n",
       " 'R00A10A01A10',\n",
       " 'R00A10A11A10',\n",
       " 'R00A10R00A00',\n",
       " 'R00A10R00A01',\n",
       " 'R00A10R00A10',\n",
       " 'R00A10R00A11',\n",
       " 'R00A11A00A11',\n",
       " 'R00A11A10A11',\n",
       " 'R00A11R00A00',\n",
       " 'R00A11R00A01',\n",
       " 'R00A11R00A10',\n",
       " 'R00A11R00A11']"
      ]
     },
     "execution_count": 25,
     "metadata": {},
     "output_type": "execute_result"
    }
   ],
   "source": [
    "hermitian_M"
   ]
  },
  {
   "cell_type": "code",
   "execution_count": null,
   "id": "90c9c2fb",
   "metadata": {},
   "outputs": [],
   "source": []
  }
 ],
 "metadata": {
  "kernelspec": {
   "display_name": "Python 3 (ipykernel)",
   "language": "python",
   "name": "python3"
  },
  "language_info": {
   "codemirror_mode": {
    "name": "ipython",
    "version": 3
   },
   "file_extension": ".py",
   "mimetype": "text/x-python",
   "name": "python",
   "nbconvert_exporter": "python",
   "pygments_lexer": "ipython3",
   "version": "3.10.14"
  }
 },
 "nbformat": 4,
 "nbformat_minor": 5
}
