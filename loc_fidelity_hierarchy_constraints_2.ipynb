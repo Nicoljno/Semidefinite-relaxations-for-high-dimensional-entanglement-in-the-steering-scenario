{
 "cells": [
  {
   "cell_type": "code",
   "execution_count": 1,
   "id": "a2da2716",
   "metadata": {},
   "outputs": [],
   "source": [
    "import numpy as np\n",
    "import sympy as sp\n",
    "import itertools as it\n",
    "import string\n",
    "import pickle\n",
    "from tqdm import tqdm\n",
    "import time"
   ]
  },
  {
   "cell_type": "code",
   "execution_count": 2,
   "id": "14d80f0a",
   "metadata": {},
   "outputs": [],
   "source": [
    "#cyclic permutation to check equivalence under the parrtial trace\n",
    "def cyclic_permutations(lst):\n",
    "    yield lst\n",
    "    for k in range(3, len(lst), 3):\n",
    "        p = lst[k:] + lst[:k]\n",
    "        if p == lst:\n",
    "            break\n",
    "        yield p"
   ]
  },
  {
   "cell_type": "code",
   "execution_count": 3,
   "id": "0eedd62d",
   "metadata": {},
   "outputs": [],
   "source": [
    "#cyclic permutation to check equivalence under the parrtial trace\n",
    "def cyclic_permutations_clock(lst):\n",
    "    yield lst\n",
    "    for k in range(3, len(lst), 3):\n",
    "        p = lst[-k:] + lst[:-k]\n",
    "        if p == lst:\n",
    "            break\n",
    "        yield p"
   ]
  },
  {
   "cell_type": "code",
   "execution_count": 4,
   "id": "c9016df8",
   "metadata": {},
   "outputs": [],
   "source": [
   "#the parties are defined as capital letters in alphabetical order, the inputs and outputs as numbers from 0 to n\n",
    "parties = ['A']\n",
    "inputs = ['0','1']\n",
    "outputs = ['0','1']\n",
    "operators = [''.join(k) for k in it.product(parties,outputs,inputs, repeat = 1)]\n",
    "A_operators = [''.join(k) for k in it.product(parties,outputs,inputs, repeat = 1)]"
   ]
  },
  {
   "cell_type": "code",
   "execution_count": 5,
   "id": "e5e3c5c5",
   "metadata": {},
   "outputs": [],
   "source": [
   "#Add the shared state as 'R00' and the dual variable as 'Y00'\n",
    "operators.append('R00')\n",
    "variables = operators+['Y00']"
   ]
  },
  {
   "cell_type": "code",
   "execution_count": 6,
   "id": "48aa38ed",
   "metadata": {},
   "outputs": [
    {
     "name": "stdout",
     "output_type": "stream",
     "text": [
      "13\n"
     ]
    }
   ],
   "source": [
   "#Define the level of the hierarchy to build the monomial set. Additional elements can be added manually\n",
    "level = 2\n",
    "\n",
    "monomial_set_rho_y = []\n",
    "\n",
    "lev = []\n",
    "\n",
    "for i in range(1,level+1):   \n",
    "    \n",
    "    lev = [''.join(k) for k in it.product(A_operators, repeat = i)]\n",
    "    if(i==3):\n",
    "        tmp= [''.join(k) for k in it.product(A_operators, repeat = 1)]\n",
    "        for count in range(len(tmp)):\n",
    "            for count1 in range(len(tmp)):\n",
    "                #if(count<count1):\n",
    "                lev.append('A00'+tmp[count]+tmp[count1])\n",
    "                lev.append('A10'+tmp[count]+tmp[count1])\n",
    "                lev.append(tmp[count]+'A00'+tmp[count1])\n",
    "                #lev.append(tmp[count]+'A10'+tmp[count1])\n",
    "                lev.append(tmp[count]+tmp[count1]+'A00')\n",
    "                lev.append(tmp[count]+tmp[count1]+'A10')\n",
    "\n",
    "            \n",
    "            \n",
    "            \n",
    "    monomial_set_rho_y+=lev\n",
    "\n",
    "#orthogonality\n",
    "for k in range(len(monomial_set_rho_y)):\n",
    "    for l1 in parties: \n",
    "        for l2 in parties:\n",
    "            for i1 in inputs:\n",
    "                for o1 in outputs:\n",
    "                    for o2 in outputs:\n",
    "                        if (o1!=o2 and l1+o1+i1+l2+o2+i1 in monomial_set_rho_y[k]):\n",
    "                            monomial_set_rho_y[k] = ('')\n",
    "\n",
    "#every element projects into itself\n",
    "for p in range(len(monomial_set_rho_y)):      \n",
    "    for m in range(1,int(i/2)+2):\n",
    "        #s = [''.join(k) for k in it.product(operators, repeat = m)]\n",
    "        while any(el+el in monomial_set_rho_y[p] for el in operators):\n",
    "            for el in operators:\n",
    "                monomial_set_rho_y[p] = monomial_set_rho_y[p].replace(el+el, el)\n",
    "\n",
    "\n",
    "monomial_set_rho_y.append('')\n",
    "monomial_set_rho_y = sorted(sorted(list(set(monomial_set_rho_y))), key=len)\n",
    "print(len(monomial_set_rho_y))"
   ]
  },
  {
   "cell_type": "code",
   "execution_count": 7,
   "id": "c22a6afc",
   "metadata": {},
   "outputs": [
    {
     "data": {
      "text/plain": [
       "['',\n",
       " 'A00',\n",
       " 'A01',\n",
       " 'A10',\n",
       " 'A11',\n",
       " 'A00A01',\n",
       " 'A00A11',\n",
       " 'A01A00',\n",
       " 'A01A10',\n",
       " 'A10A01',\n",
       " 'A10A11',\n",
       " 'A11A00',\n",
       " 'A11A10']"
      ]
     },
     "execution_count": 7,
     "metadata": {},
     "output_type": "execute_result"
    }
   ],
   "source": [
    "monomial_set_rho_y"
   ]
  },
  {
   "cell_type": "code",
   "execution_count": 8,
   "id": "6c021e3b",
   "metadata": {},
   "outputs": [],
   "source": [
    "n=3\n",
    "rev_mon_set_rho_y = []\n",
    "\n",
    "#len(monomial_set_rho)=len(monomial_set_y)\n",
    "for l in range(len(monomial_set_rho_y)):\n",
    "    lista = [monomial_set_rho_y[l][i:i+n] for i in range(0, len(monomial_set_rho_y[l]), n)]\n",
    "    lista.reverse()\n",
    "    rev_mon_set_rho_y.append(''.join(lista))"
   ]
  },
  {
   "cell_type": "code",
   "execution_count": 9,
   "id": "ded1babc",
   "metadata": {},
   "outputs": [],
   "source": [
   "#Building the block matrices, no simplifications are performed yet.\n",
    "gamma_mat_rho = []\n",
    "gamma_mat_y = []\n",
    "\n",
    "#len(monomial_set_rho)=len(monomial_set_y)\n",
    "for i in range(len(monomial_set_rho_y)):\n",
    "    gamma_row_rho = []\n",
    "    for j in range(i, len(rev_mon_set_rho_y)):\n",
    "        gamma_row_rho.append(monomial_set_rho_y[i]+'R00'+rev_mon_set_rho_y[j])\n",
    "    gamma_mat_rho.append(gamma_row_rho)\n",
    "for i in range(len(monomial_set_rho_y)):\n",
    "    gamma_row_y = []\n",
    "    for j in range(i, len(rev_mon_set_rho_y)):\n",
    "        gamma_row_y.append(monomial_set_rho_y[i]+'Y00'+rev_mon_set_rho_y[j])\n",
    "    gamma_mat_y.append(gamma_row_y)"
   ]
  },
  {
   "cell_type": "code",
   "execution_count": 10,
   "id": "d7267ed5",
   "metadata": {},
   "outputs": [
    {
     "name": "stderr",
     "output_type": "stream",
     "text": [
      "100%|████████████████████████████████████████████████████████████████████████████████| 13/13 [00:00<00:00, 2537.03it/s]\n"
     ]
    }
   ],
   "source": [
   "#Application of the reduction rules to the first block matrix\n",
    "for i in tqdm(range(len(gamma_mat_rho))):\n",
    "    for j in range(len(gamma_mat_rho[i])):\n",
    "        \n",
    "        #setting orthogonal elements to 'O00'\n",
    "        for l1 in parties: \n",
    "            for i1 in inputs:\n",
    "                for o1 in outputs:\n",
    "                    for o2 in outputs:\n",
    "                        if (o1!=o2 and l1+o1+i1+l1+o2+i1 in gamma_mat_rho[i][j]):\n",
    "                            gamma_mat_rho[i][j] = ('O00')\n",
    "\n",
    "        #the partial trace is cyclical over the first party\n",
    "        for l1 in parties: \n",
    "            for i1 in inputs:\n",
    "                for o1 in outputs:\n",
    "                    for o2 in outputs:\n",
    "                        if (o1!=o2 and l1+o1+i1+l1+o2+i1 in gamma_mat_rho[i][j][0:3]+gamma_mat_rho[i][j][-3::]):\n",
    "                            gamma_mat_rho[i][j] = ('O00')\n",
    "\n",
    "        #every element in operators project into itself\n",
    "        for m in range(1,int(len(gamma_mat_rho[i][j])/2)+1):\n",
    "            while any(el+el in gamma_mat_rho[i][j] for el in operators):\n",
    "                for el in operators:\n",
    "                    gamma_mat_rho[i][j] = gamma_mat_rho[i][j].replace(el+el, el)\n",
    "        \n",
    "        #the partial trace is cyclical over the first party\n",
    "        for m in range(1,int(len(gamma_mat_rho[i][j])/2)+1):\n",
    "            while len(gamma_mat_rho[i][j])>7 and any(el+el in gamma_mat_rho[i][j][0:3]+gamma_mat_rho[i][j][-3::] for el in A_operators):\n",
    "                gamma_mat_rho[i][j] = gamma_mat_rho[i][j][:-3]\n",
    "\n",
    "        flag=0\n",
    "        if(gamma_mat_rho[i][j][0:3] != 'R00'):\n",
    "            for tmp in cyclic_permutations(gamma_mat_rho[i][j]):\n",
    "                if (tmp[0:3] == 'R00'):\n",
    "                    tmp1=tmp\n",
    "                    tmp=gamma_mat_rho[i][j]\n",
    "                    flag=1\n",
    "                    break\n",
    "        if(flag):\n",
    "            gamma_mat_rho[i][j]=tmp1\n",
    "\n",
    "diag_el_rho=[]\n",
    "for i in range(len(gamma_mat_rho)):\n",
    "    diag_el_rho.append(gamma_mat_rho[i][0])"
   ]
  },
  {
   "cell_type": "code",
   "execution_count": 11,
   "id": "3fa2baed",
   "metadata": {},
   "outputs": [
    {
     "name": "stderr",
     "output_type": "stream",
     "text": [
      "100%|██████████████████████████████████████████████████████████████████████████████████████████| 13/13 [00:00<?, ?it/s]\n"
     ]
    }
   ],
   "source": [
   "#Application of the reduction rules to the second block matrix\n",
    "for i in tqdm(range(len(gamma_mat_y))):\n",
    "    #time.sleep(0.01)\n",
    "    for j in range(len(gamma_mat_y[i])):\n",
    "        \n",
    "        #setting orthogonal elements to 'O00'\n",
    "        for l1 in parties: \n",
    "            for i1 in inputs:\n",
    "                for o1 in outputs:\n",
    "                    for o2 in outputs:\n",
    "                        if (o1!=o2 and l1+o1+i1+l1+o2+i1 in gamma_mat_y[i][j]):\n",
    "                            gamma_mat_y[i][j] = ('O00')\n",
    "\n",
    "        #the partial trace is cyclical over the first party\n",
    "        for l1 in parties: \n",
    "            for i1 in inputs:\n",
    "                for o1 in outputs:\n",
    "                    for o2 in outputs:\n",
    "                        if (o1!=o2 and l1+o1+i1+l1+o2+i1 in gamma_mat_y[i][j][0:3]+gamma_mat_y[i][j][-3::]):\n",
    "                            gamma_mat_y[i][j] = ('O00')\n",
    "\n",
    "        #every element project into itself\n",
    "        for m in range(1,int(len(gamma_mat_y[i][j])/2)+1):\n",
    "            while any(el+el in gamma_mat_y[i][j] for el in operators):\n",
    "                for el in operators:\n",
    "                    gamma_mat_y[i][j] = gamma_mat_y[i][j].replace(el+el, el)\n",
    "        \n",
    "        #the partial trace is cyclical over the first party\n",
    "        for m in range(1,int(len(gamma_mat_y[i][j])/2)+1):\n",
    "            while len(gamma_mat_y[i][j])>7 and any(el+el in gamma_mat_y[i][j][0:3]+gamma_mat_y[i][j][-3::] for el in A_operators):\n",
    "                gamma_mat_y[i][j] = gamma_mat_y[i][j][:-3]\n",
    "        \n",
    "        #the partial trace is cyclical over the first party\n",
    "        if ('R00' not in gamma_mat_y[i][j]):\n",
    "            for tmp in cyclic_permutations(gamma_mat_y[i][j]):\n",
    "                if (tmp<gamma_mat_y[i][j]):\n",
    "                    gamma_mat_y[i][j]=tmp\n",
    "        else:\n",
    "            flag=0\n",
    "            if(gamma_mat_y[i][j][0:3] != 'R00'):\n",
    "                for tmp in cyclic_permutations(gamma_mat_y[i][j]):\n",
    "                    if (tmp[0:3] == 'R00'):\n",
    "                        tmp1=tmp\n",
    "                        tmp=gamma_mat_y[i][j]\n",
    "                        flag=1\n",
    "                        break\n",
    "            if(flag):\n",
    "                gamma_mat_y[i][j]=tmp1\n",
    "\n",
    "\n",
    "#diag_el=diag_el+diag_el_rho+diag_el_y\n",
    "#diag_el=sorted(sorted(set(diag_el)), key=len);"
   ]
  },
  {
   "cell_type": "code",
   "execution_count": 12,
   "id": "491f79c6",
   "metadata": {},
   "outputs": [],
   "source": [
   "#Building the monomial index in the two block matrices\n",
    "monomial_index_rho = {}\n",
    "for i in range(len(gamma_mat_rho)):\n",
    "    for j in range(len(gamma_mat_rho[i])):\n",
    "        monomial_index_rho[gamma_mat_rho[i][j]] = []\n",
    "for i in range(len(gamma_mat_rho)):\n",
    "    for j in range(len(gamma_mat_rho[i])):\n",
    "        monomial_index_rho[gamma_mat_rho[i][j]].append([i,i+j])\n",
    "monomial_index_y = {}\n",
    "for i in range(len(gamma_mat_y)):\n",
    "    for j in range(len(gamma_mat_y[i])):\n",
    "        monomial_index_y[gamma_mat_y[i][j]] = []\n",
    "for i in range(len(gamma_mat_y)):\n",
    "    for j in range(len(gamma_mat_y[i])):\n",
    "        monomial_index_y[gamma_mat_y[i][j]].append([i,i+j])"
   ]
  },
  {
   "cell_type": "code",
   "execution_count": 13,
   "id": "e6545c8f",
   "metadata": {
    "scrolled": true
   },
   "outputs": [],
   "source": [
    "diz_constraints_rho = { list(monomial_index_rho.keys())[i] : i  for i in range(len(list(monomial_index_rho.keys())))}\n",
    "diz_constraints_y = { list(monomial_index_y.keys())[i] : i  for i in range(len(list(monomial_index_y.keys())))}"
   ]
  },
  {
   "cell_type": "code",
   "execution_count": 14,
   "id": "6838642f",
   "metadata": {},
   "outputs": [],
   "source": [
   "#The element 'O00' is not required\n",
    "index_keys_rho = list(monomial_index_rho.keys())\n",
    "index_keys_rho.remove('O00')\n",
    "index_keys_y = list(monomial_index_y.keys())\n",
    "index_keys_y.remove('O00')\n",
    "index_keys=sorted(sorted(list(set(index_keys_rho+index_keys_y))), key=len)"
   ]
  },
  {
   "cell_type": "code",
   "execution_count": 15,
   "id": "54fb4c48",
   "metadata": {},
   "outputs": [],
   "source": [
   "#The variables are divided into real coefficient, real_C, complex coefficients, complex_C and hermitian and complex matrices, hermitian_M and complex_M\n",
    "coefs = [item for item in index_keys if 'R00' not in item]\n",
    "#coefs.remove('O00')\n",
    "#coefs.remove('')\n",
    "matrices = [item for item in index_keys if 'R00' in item]\n",
    "hermitian_M=[]\n",
    "complex_M=[]\n",
    "real_C=[]\n",
    "complex_C=[]\n",
    "\n",
    "\n",
    "for i in matrices:\n",
    "    lista = [i[j:j+n] for j in range(0, len(i), n)]\n",
    "    lista.reverse()\n",
    "    lista=''.join(lista)\n",
    "    flag=0\n",
    "    if(lista[0:3] != 'R00'):\n",
    "        for tmp in cyclic_permutations(lista):\n",
    "            if (tmp[0:3] == 'R00'):\n",
    "                tmp1=tmp\n",
    "                tmp=lista\n",
    "                flag=1\n",
    "                break\n",
    "    if(flag):\n",
    "        lista=tmp1\n",
    "    if(lista == i):\n",
    "        hermitian_M.append(i)\n",
    "\n",
    "\n",
    "hermitian_M = sorted(sorted(set(hermitian_M)), key=len);\n",
    "complex_M = [i for i in matrices if i not in hermitian_M]\n",
    "\n",
    "\n",
    "for i in coefs:\n",
    "    lista = [i[j:j+n] for j in range(0, len(i), n)]\n",
    "    lista.reverse()\n",
    "    lista = ''.join(lista)\n",
    "    for tmp in cyclic_permutations(lista):\n",
    "        if (tmp<lista):\n",
    "            lista=tmp\n",
    "    if(lista==i):\n",
    "        real_C.append(i)\n",
    "\n",
    "\n",
    "real_C=sorted(sorted(set(real_C)), key=len);\n",
    "complex_C = [i for i in coefs if i not in real_C]"
   ]
  },
  {
   "cell_type": "code",
   "execution_count": 16,
   "id": "ddb1126a",
   "metadata": {},
   "outputs": [],
   "source": [
    "#Different indices have to be used for elements of the two block matrices\n",
    "#The suffix index is used to identify the string corresponding to the target element in the lists;\n",
    "#The suffix indices is used to identify the position of the string corresponding to the target element in the lists;\n",
    "hermitian_rho_indices = []\n",
    "complex_rho_indices = []\n",
    "complex_mat_y_indices = []\n",
    "hermitian_rho_index = []\n",
    "complex_rho_index = []\n",
    "hermitian_y_indices = []\n",
    "complex_y_indices = []\n",
    "real_y_indices = []\n",
    "hermitian_y_index = []\n",
    "complex_y_index = []\n",
    "real_y_index = []\n",
    "complex_mat_y_index = []\n",
    "\n",
    "list_of_indices=real_C+complex_C+hermitian_M+complex_M\n",
    "#index_keys_rho.remove('')\n",
    "#index_keys_y.remove('')\n",
    "for i in index_keys_rho:\n",
    "    if i in hermitian_M:\n",
    "        hermitian_rho_indices.append(hermitian_M.index(i)+1)\n",
    "        hermitian_rho_index.append(i)\n",
    "    else:\n",
    "        complex_rho_indices.append(complex_M.index(i)+1)\n",
    "        complex_rho_index.append(i)\n",
    "for i in index_keys_y:\n",
    "    if i in hermitian_M:\n",
    "        hermitian_y_indices.append(hermitian_M.index(i)+1)\n",
    "        hermitian_y_index.append(i)\n",
    "    elif i in complex_M:\n",
    "        complex_mat_y_indices.append(complex_M.index(i)+1)\n",
    "        complex_mat_y_index.append(i)\n",
    "    elif i in real_C:\n",
    "        real_y_indices.append(real_C.index(i)+1)\n",
    "        real_y_index.append(i)\n",
    "    elif i in complex_C:\n",
    "        complex_y_indices.append(complex_C.index(i)+1)\n",
    "        complex_y_index.append(i)\n"
   ]
  },
  {
   "cell_type": "code",
   "execution_count": 17,
   "id": "253c1fd8",
   "metadata": {},
   "outputs": [],
   "source": [
    "#Here the final list containing the position of the target strings in the final gamma matrix is provided;\n",
    "A_rho = np.zeros([len(hermitian_rho_index),len(monomial_set_rho_y),len(monomial_set_rho_y)], dtype=int)\n",
    "for i in range(len(hermitian_rho_index)):\n",
    "    for j in range(len(monomial_index_rho[hermitian_rho_index[i]])):\n",
    "        A_rho[i][monomial_index_rho[hermitian_rho_index[i]][j][0]][monomial_index_rho[hermitian_rho_index[i]][j][1]] = 1\n",
    "for i in range(len(hermitian_rho_index)):\n",
    "    A_rho[i]=A_rho[i]+A_rho[i].T\n",
    "sdp_matrices_rho=A_rho.astype(bool)\n",
    "A_rho = np.zeros([len(complex_rho_index),len(monomial_set_rho_y),len(monomial_set_rho_y)], dtype=int)\n",
    "for i in range(len(complex_rho_index)):\n",
    "    for j in range(len(monomial_index_rho[complex_rho_index[i]])):\n",
    "        A_rho[i][monomial_index_rho[complex_rho_index[i]][j][0]][monomial_index_rho[complex_rho_index[i]][j][1]] = 1\n",
    "for i in range(len(complex_rho_index)):\n",
    "    A_rho[i]=A_rho[i]+A_rho[i].T\n",
    "complex_matrices_rho=A_rho.astype(bool)\n",
    "A_y = np.zeros([len(real_y_index),len(monomial_set_rho_y),len(monomial_set_rho_y)], dtype=int)\n",
    "for i in range(len(real_y_index)):\n",
    "    for j in range(len(monomial_index_y[real_y_index[i]])):\n",
    "        A_y[i][monomial_index_y[real_y_index[i]][j][0]][monomial_index_y[real_y_index[i]][j][1]] = 1\n",
    "for i in range(len(real_y_index)):\n",
    "    A_y[i]=A_y[i]+A_y[i].T\n",
    "coefs_y=A_y.astype(bool)\n",
    "A_y = np.zeros([len(complex_y_index),len(monomial_set_rho_y),len(monomial_set_rho_y)], dtype=int)\n",
    "for i in range(len(complex_y_index)):\n",
    "    for j in range(len(monomial_index_y[complex_y_index[i]])):\n",
    "        A_y[i][monomial_index_y[complex_y_index[i]][j][0]][monomial_index_y[complex_y_index[i]][j][1]] = 1\n",
    "for i in range(len(complex_y_index)):\n",
    "    A_y[i]=A_y[i]+A_y[i].T\n",
    "complex_coefs_y=A_y.astype(bool)\n",
    "A_y = np.zeros([len(hermitian_y_index),len(monomial_set_rho_y),len(monomial_set_rho_y)], dtype=int)\n",
    "for i in range(len(hermitian_y_index)):\n",
    "    for j in range(len(monomial_index_y[hermitian_y_index[i]])):\n",
    "        A_y[i][monomial_index_y[hermitian_y_index[i]][j][0]][monomial_index_y[hermitian_y_index[i]][j][1]] = 1\n",
    "for i in range(len(hermitian_y_index)):\n",
    "    A_y[i]=A_y[i]+A_y[i].T\n",
    "sdp_matrices_y=A_y.astype(bool)\n",
    "A_y = np.zeros([len(complex_mat_y_index),len(monomial_set_rho_y),len(monomial_set_rho_y)], dtype=int)\n",
    "for i in range(len(complex_mat_y_index)):\n",
    "    for j in range(len(monomial_index_y[complex_mat_y_index[i]])):\n",
    "        A_y[i][monomial_index_y[complex_mat_y_index[i]][j][0]][monomial_index_y[complex_mat_y_index[i]][j][1]] = 1\n",
    "for i in range(len(complex_mat_y_index)):\n",
    "    A_y[i]=A_y[i]+A_y[i].T\n",
    "complex_matrices_y=A_y.astype(bool)\n"
   ]
  },
  {
   "cell_type": "code",
   "execution_count": 18,
   "id": "accd3093",
   "metadata": {},
   "outputs": [
    {
     "name": "stdout",
     "output_type": "stream",
     "text": [
      "16\n"
     ]
    }
   ],
   "source": [
    "complex_C_pairs=[]\n",
    "for i in complex_C:\n",
    "    lista = [i[j:j+n] for j in range(0, len(i), n)]\n",
    "    lista.reverse()\n",
    "    lista=''.join(lista)\n",
    "    for tmp in cyclic_permutations(lista):\n",
    "        if (tmp<lista):\n",
    "            lista=tmp\n",
    "    if(lista in complex_C):\n",
    "        complex_C_pairs.append([complex_C.index(i), complex_C.index(lista)])\n",
    "for i in range(len(complex_C_pairs)):\n",
    "    complex_C_pairs[i]=sorted(complex_C_pairs[i])\n",
    "complex_C_pairs=np.unique(complex_C_pairs, axis=0)\n",
    "\n",
    "complex_M_pairs=[]\n",
    "for i in complex_M:\n",
    "    lista = [i[j:j+n] for j in range(0, len(i), n)]\n",
    "    lista.reverse()\n",
    "    lista=''.join(lista)\n",
    "    flag=0\n",
    "    if(lista[0:3] != 'R00'):\n",
    "        for tmp in cyclic_permutations(lista):\n",
    "            if (tmp[0:3] == 'R00'):\n",
    "                tmp1=tmp\n",
    "                tmp=lista\n",
    "                flag=1\n",
    "                break\n",
    "    if(flag):\n",
    "        lista=tmp1\n",
    "    if(lista in complex_M):\n",
    "        complex_M_pairs.append([complex_M.index(i), complex_M.index(lista)])\n",
    "print(len(complex_M_pairs))\n",
    "for i in range(len(complex_M_pairs)):\n",
    "    complex_M_pairs[i]=sorted(complex_M_pairs[i])\n",
    "complex_M_pairs=np.unique(complex_M_pairs, axis=0)\n"
   ]
  },
  {
   "cell_type": "code",
   "execution_count": 19,
   "id": "abc2814d",
   "metadata": {},
   "outputs": [],
   "source": [
    "tracial_pairs=[]\n",
    "for item in matrices:\n",
    "    if(len(item)>7):\n",
    "        if(item[:3]+item[-3:]=='R00R00'):\n",
    "            tmp_1=0\n",
    "            tmp_2=0\n",
    "            if(item in complex_M):\n",
    "                tmp_1 = 1\n",
    "                index_1 = complex_M.index(item)+1\n",
    "                if(item[:-3] in complex_M):\n",
    "                    tmp_2=1\n",
    "                    index_2=complex_M.index(item[:-3])+1\n",
    "                else:\n",
    "                    index_2=hermitian_M.index(item[:-3])\n",
    "            else:\n",
    "                index_1 = hermitian_M.index(item)\n",
    "                if(item[:-3] in complex_M):\n",
    "                    tmp_2=1\n",
    "                    index_2=complex_M.index(item[:-3])+1\n",
    "                else:\n",
    "                    index_2=hermitian_M.index(item[:-3])\n",
    "            tracial_pairs.append([tmp_1, tmp_2, index_1, index_2])"
   ]
  },
  {
   "cell_type": "code",
   "execution_count": 20,
   "id": "8e004630",
   "metadata": {},
   "outputs": [],
   "source": [
    "var_num=[len(real_C), len(hermitian_M), len(complex_C), len(complex_M)]"
   ]
  },
  {
   "cell_type": "code",
   "execution_count": 21,
   "id": "3dbb6f85",
   "metadata": {},
   "outputs": [],
   "source": [
    "from scipy.io import savemat"
   ]
  },
  {
   "cell_type": "code",
   "execution_count": 22,
   "id": "3933a175",
   "metadata": {},
   "outputs": [],
   "source": [
    "savemat(\"loc_fidelity_d3_N2_lvl_2_test.mat\", {'var_num': var_num, \n",
    "                                         'complex_matrices_rho': complex_matrices_rho, \n",
    "                                         'sdp_matrices_rho': sdp_matrices_rho, 'sdp_matrices_y': sdp_matrices_y, \n",
    "                                         'coefs_y': coefs_y, 'complex_coefs_y': complex_coefs_y,\n",
    "                                         'complex_matrices_y': complex_matrices_y, \n",
    "                                         'rho_indices': hermitian_rho_indices, \n",
    "                                         'complex_rho_indices': complex_rho_indices, \n",
    "                                         'hermitian_y_indices': hermitian_y_indices, \n",
    "                                         'complex_mat_y_indices': complex_mat_y_indices, \n",
    "                                         'real_y_indices': real_y_indices, \n",
    "                                         'complex_y_indices': complex_y_indices,\n",
    "                                         'complex_C_pairs':complex_C_pairs,\n",
    "                                         'complex_M_pairs':complex_M_pairs,\n",
    "                                         'tracial_pairs':tracial_pairs})"
   ]
  },
  {
   "cell_type": "code",
   "execution_count": 23,
   "id": "f6969efe",
   "metadata": {},
   "outputs": [
    {
     "data": {
      "text/plain": [
       "[13, 13, 32, 32]"
      ]
     },
     "execution_count": 23,
     "metadata": {},
     "output_type": "execute_result"
    }
   ],
   "source": [
    "var_num"
   ]
  },
  {
   "cell_type": "code",
   "execution_count": 26,
   "id": "58a2699c",
   "metadata": {},
   "outputs": [
    {
     "data": {
      "text/plain": [
       "[['R00',\n",
       "  'R00A00',\n",
       "  'R00A01',\n",
       "  'R00A10',\n",
       "  'R00A11',\n",
       "  'R00A01A00',\n",
       "  'R00A11A00',\n",
       "  'R00A00A01',\n",
       "  'R00A10A01',\n",
       "  'R00A01A10',\n",
       "  'R00A11A10',\n",
       "  'R00A00A11',\n",
       "  'R00A10A11'],\n",
       " ['R00A00',\n",
       "  'R00A01A00',\n",
       "  'O00',\n",
       "  'R00A11A00',\n",
       "  'R00A01A00',\n",
       "  'R00A11A00',\n",
       "  'R00A00A01A00',\n",
       "  'R00A10A01A00',\n",
       "  'O00',\n",
       "  'O00',\n",
       "  'R00A00A11A00',\n",
       "  'R00A10A11A00'],\n",
       " ['R00A01',\n",
       "  'R00A10A01',\n",
       "  'O00',\n",
       "  'R00A01A00A01',\n",
       "  'R00A11A00A01',\n",
       "  'R00A00A01',\n",
       "  'R00A10A01',\n",
       "  'R00A01A10A01',\n",
       "  'R00A11A10A01',\n",
       "  'O00',\n",
       "  'O00'],\n",
       " ['R00A10',\n",
       "  'R00A11A10',\n",
       "  'O00',\n",
       "  'O00',\n",
       "  'R00A00A01A10',\n",
       "  'R00A10A01A10',\n",
       "  'R00A01A10',\n",
       "  'R00A11A10',\n",
       "  'R00A00A11A10',\n",
       "  'R00A10A11A10'],\n",
       " ['R00A11',\n",
       "  'R00A01A00A11',\n",
       "  'R00A11A00A11',\n",
       "  'O00',\n",
       "  'O00',\n",
       "  'R00A01A10A11',\n",
       "  'R00A11A10A11',\n",
       "  'R00A00A11',\n",
       "  'R00A10A11'],\n",
       " ['R00A01A00A01',\n",
       "  'R00A11A00A01',\n",
       "  'R00A00A01A00A01',\n",
       "  'R00A10A01A00A01',\n",
       "  'O00',\n",
       "  'O00',\n",
       "  'R00A00A11A00A01',\n",
       "  'R00A10A11A00A01'],\n",
       " ['R00A11A00A11',\n",
       "  'R00A00A01A00A11',\n",
       "  'R00A10A01A00A11',\n",
       "  'O00',\n",
       "  'O00',\n",
       "  'R00A00A11A00A11',\n",
       "  'R00A10A11A00A11'],\n",
       " ['R00A00A01A00',\n",
       "  'R00A10A01A00',\n",
       "  'R00A01A10A01A00',\n",
       "  'R00A11A10A01A00',\n",
       "  'O00',\n",
       "  'O00'],\n",
       " ['R00A10A01A10', 'R00A01A10A01A10', 'R00A11A10A01A10', 'O00', 'O00'],\n",
       " ['R00A01A10A01', 'R00A11A10A01', 'R00A00A11A10A01', 'R00A10A11A10A01'],\n",
       " ['R00A11A10A11', 'R00A00A11A10A11', 'R00A10A11A10A11'],\n",
       " ['R00A00A11A00', 'R00A10A11A00'],\n",
       " ['R00A10A11A10']]"
      ]
     },
     "execution_count": 26,
     "metadata": {},
     "output_type": "execute_result"
    }
   ],
   "source": [
    "gamma_mat_rho"
   ]
  },
  {
   "cell_type": "code",
   "execution_count": 28,
   "id": "cebb0681",
   "metadata": {},
   "outputs": [
    {
     "data": {
      "text/plain": [
       "['A00A01Y00',\n",
       " 'A00A11Y00',\n",
       " 'A00Y00A01',\n",
       " 'A00Y00A11',\n",
       " 'A01A10Y00',\n",
       " 'A01Y00A10',\n",
       " 'A10A11Y00',\n",
       " 'A10Y00A11',\n",
       " 'A00A01A10Y00',\n",
       " 'A00A01Y00A11',\n",
       " 'A00A11A10Y00',\n",
       " 'A00A11Y00A01',\n",
       " 'A00Y00A10A01',\n",
       " 'A00Y00A10A11',\n",
       " 'A01A10A11Y00',\n",
       " 'A01Y00A11A10',\n",
       " 'A00A01A00A01Y00',\n",
       " 'A00A01A00A11Y00',\n",
       " 'A00A01Y00A00A11',\n",
       " 'A00A01Y00A10A01',\n",
       " 'A00A01Y00A10A11',\n",
       " 'A00A11A00A11Y00',\n",
       " 'A00A11A10A01Y00',\n",
       " 'A00A11A10A11Y00',\n",
       " 'A00A11Y00A10A01',\n",
       " 'A00A11Y00A10A11',\n",
       " 'A00Y00A01A10A01',\n",
       " 'A00Y00A11A10A01',\n",
       " 'A01A10A01A10Y00',\n",
       " 'A01A10Y00A11A10',\n",
       " 'A01Y00A10A11A10',\n",
       " 'A10A11A10A11Y00']"
      ]
     },
     "execution_count": 28,
     "metadata": {},
     "output_type": "execute_result"
    }
   ],
   "source": [
    "complex_C"
   ]
  },
  {
   "cell_type": "code",
   "execution_count": 29,
   "id": "75d41bb8",
   "metadata": {},
   "outputs": [
    {
     "data": {
      "text/plain": [
       "['Y00',\n",
       " 'A00Y00',\n",
       " 'A01Y00',\n",
       " 'A10Y00',\n",
       " 'A11Y00',\n",
       " 'A00A01A00Y00',\n",
       " 'A00A01Y00A01',\n",
       " 'A00A11A00Y00',\n",
       " 'A00A11Y00A11',\n",
       " 'A01A10A01Y00',\n",
       " 'A01A10Y00A10',\n",
       " 'A10A11A10Y00',\n",
       " 'A10A11Y00A11']"
      ]
     },
     "execution_count": 29,
     "metadata": {},
     "output_type": "execute_result"
    }
   ],
   "source": [
    "real_C"
   ]
  },
  {
   "cell_type": "code",
   "execution_count": null,
   "id": "85ac68dd",
   "metadata": {},
   "outputs": [],
   "source": []
  }
 ],
 "metadata": {
  "kernelspec": {
   "display_name": "Python 3 (ipykernel)",
   "language": "python",
   "name": "python3"
  },
  "language_info": {
   "codemirror_mode": {
    "name": "ipython",
    "version": 3
   },
   "file_extension": ".py",
   "mimetype": "text/x-python",
   "name": "python",
   "nbconvert_exporter": "python",
   "pygments_lexer": "ipython3",
   "version": "3.10.14"
  }
 },
 "nbformat": 4,
 "nbformat_minor": 5
}
